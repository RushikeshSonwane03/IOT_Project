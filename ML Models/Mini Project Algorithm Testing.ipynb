{
 "cells": [
  {
   "cell_type": "code",
   "execution_count": 1,
   "id": "b7e6dde6",
   "metadata": {
    "id": "b7e6dde6"
   },
   "outputs": [],
   "source": [
    "import warnings\n",
    "# Suppress the FutureWarning\n",
    "warnings.filterwarnings(\"ignore\", category=FutureWarning)"
   ]
  },
  {
   "cell_type": "markdown",
   "id": "454ab4e5",
   "metadata": {
    "id": "454ab4e5"
   },
   "source": [
    "# Lab 10 : Model Selection"
   ]
  },
  {
   "cell_type": "markdown",
   "id": "cc5685fe",
   "metadata": {
    "id": "cc5685fe"
   },
   "source": [
    "## Import Libraries"
   ]
  },
  {
   "cell_type": "code",
   "execution_count": 2,
   "id": "f0ebdd72",
   "metadata": {
    "id": "f0ebdd72"
   },
   "outputs": [],
   "source": [
    "import numpy as np\n",
    "import pandas as pd\n",
    "import matplotlib.pyplot as plt\n",
    "import seaborn as sns"
   ]
  },
  {
   "cell_type": "code",
   "execution_count": 3,
   "id": "6e7828ca",
   "metadata": {
    "id": "6e7828ca"
   },
   "outputs": [],
   "source": [
    "data = pd.read_csv('mini_project.csv')"
   ]
  },
  {
   "cell_type": "code",
   "execution_count": 4,
   "id": "b461acd4",
   "metadata": {
    "colab": {
     "base_uri": "https://localhost:8080/",
     "height": 206
    },
    "id": "b461acd4",
    "outputId": "1e87bde1-7cfe-450b-eee5-a34a6b6dc521"
   },
   "outputs": [
    {
     "data": {
      "text/html": [
       "<div>\n",
       "<style scoped>\n",
       "    .dataframe tbody tr th:only-of-type {\n",
       "        vertical-align: middle;\n",
       "    }\n",
       "\n",
       "    .dataframe tbody tr th {\n",
       "        vertical-align: top;\n",
       "    }\n",
       "\n",
       "    .dataframe thead th {\n",
       "        text-align: right;\n",
       "    }\n",
       "</style>\n",
       "<table border=\"1\" class=\"dataframe\">\n",
       "  <thead>\n",
       "    <tr style=\"text-align: right;\">\n",
       "      <th></th>\n",
       "      <th>Gender</th>\n",
       "      <th>Height</th>\n",
       "      <th>Weight</th>\n",
       "      <th>Index</th>\n",
       "      <th>BMI_Label</th>\n",
       "      <th>BMI</th>\n",
       "      <th>Mass</th>\n",
       "      <th>Acceleration</th>\n",
       "      <th>Force</th>\n",
       "    </tr>\n",
       "  </thead>\n",
       "  <tbody>\n",
       "    <tr>\n",
       "      <th>0</th>\n",
       "      <td>Male</td>\n",
       "      <td>174</td>\n",
       "      <td>96</td>\n",
       "      <td>4</td>\n",
       "      <td>Obesity</td>\n",
       "      <td>31.708284</td>\n",
       "      <td>9.795918</td>\n",
       "      <td>0.148974</td>\n",
       "      <td>1.459339</td>\n",
       "    </tr>\n",
       "    <tr>\n",
       "      <th>1</th>\n",
       "      <td>Male</td>\n",
       "      <td>189</td>\n",
       "      <td>87</td>\n",
       "      <td>2</td>\n",
       "      <td>Normal</td>\n",
       "      <td>24.355421</td>\n",
       "      <td>8.877551</td>\n",
       "      <td>0.150125</td>\n",
       "      <td>1.332747</td>\n",
       "    </tr>\n",
       "    <tr>\n",
       "      <th>2</th>\n",
       "      <td>Female</td>\n",
       "      <td>185</td>\n",
       "      <td>110</td>\n",
       "      <td>4</td>\n",
       "      <td>Obesity</td>\n",
       "      <td>32.140248</td>\n",
       "      <td>11.224490</td>\n",
       "      <td>0.141965</td>\n",
       "      <td>1.593481</td>\n",
       "    </tr>\n",
       "    <tr>\n",
       "      <th>3</th>\n",
       "      <td>Female</td>\n",
       "      <td>195</td>\n",
       "      <td>104</td>\n",
       "      <td>3</td>\n",
       "      <td>Overweight</td>\n",
       "      <td>27.350427</td>\n",
       "      <td>10.612245</td>\n",
       "      <td>0.152628</td>\n",
       "      <td>1.619725</td>\n",
       "    </tr>\n",
       "    <tr>\n",
       "      <th>4</th>\n",
       "      <td>Male</td>\n",
       "      <td>149</td>\n",
       "      <td>61</td>\n",
       "      <td>3</td>\n",
       "      <td>Overweight</td>\n",
       "      <td>27.476240</td>\n",
       "      <td>6.224490</td>\n",
       "      <td>0.143498</td>\n",
       "      <td>0.893200</td>\n",
       "    </tr>\n",
       "  </tbody>\n",
       "</table>\n",
       "</div>"
      ],
      "text/plain": [
       "   Gender  Height  Weight  Index   BMI_Label        BMI       Mass  \\\n",
       "0    Male     174      96      4     Obesity  31.708284   9.795918   \n",
       "1    Male     189      87      2      Normal  24.355421   8.877551   \n",
       "2  Female     185     110      4     Obesity  32.140248  11.224490   \n",
       "3  Female     195     104      3  Overweight  27.350427  10.612245   \n",
       "4    Male     149      61      3  Overweight  27.476240   6.224490   \n",
       "\n",
       "   Acceleration     Force  \n",
       "0      0.148974  1.459339  \n",
       "1      0.150125  1.332747  \n",
       "2      0.141965  1.593481  \n",
       "3      0.152628  1.619725  \n",
       "4      0.143498  0.893200  "
      ]
     },
     "execution_count": 4,
     "metadata": {},
     "output_type": "execute_result"
    }
   ],
   "source": [
    "data.head()"
   ]
  },
  {
   "cell_type": "markdown",
   "id": "8b01b183",
   "metadata": {
    "id": "8b01b183"
   },
   "source": [
    "## EDA Steps"
   ]
  },
  {
   "cell_type": "code",
   "execution_count": 5,
   "id": "cf685b0a",
   "metadata": {
    "colab": {
     "base_uri": "https://localhost:8080/"
    },
    "id": "cf685b0a",
    "outputId": "58fd2b94-c0e2-4e0a-ffd5-2b1b9e2f7e80"
   },
   "outputs": [
    {
     "data": {
      "text/plain": [
       "(500, 9)"
      ]
     },
     "execution_count": 5,
     "metadata": {},
     "output_type": "execute_result"
    }
   ],
   "source": [
    "data.shape"
   ]
  },
  {
   "cell_type": "code",
   "execution_count": 6,
   "id": "4fbee121",
   "metadata": {
    "colab": {
     "base_uri": "https://localhost:8080/"
    },
    "id": "4fbee121",
    "outputId": "014a8a37-76bd-4cfc-e21c-25eb1e8fb326"
   },
   "outputs": [
    {
     "data": {
      "text/plain": [
       "Index(['Gender', 'Height', 'Weight', 'Index', 'BMI_Label', 'BMI', 'Mass',\n",
       "       'Acceleration', 'Force'],\n",
       "      dtype='object')"
      ]
     },
     "execution_count": 6,
     "metadata": {},
     "output_type": "execute_result"
    }
   ],
   "source": [
    "data.columns"
   ]
  },
  {
   "cell_type": "code",
   "execution_count": 7,
   "id": "bd06b7a0",
   "metadata": {
    "colab": {
     "base_uri": "https://localhost:8080/"
    },
    "id": "bd06b7a0",
    "outputId": "db6b044c-08f6-450a-f8e6-0a7e6c3f7eda"
   },
   "outputs": [
    {
     "name": "stdout",
     "output_type": "stream",
     "text": [
      "<class 'pandas.core.frame.DataFrame'>\n",
      "RangeIndex: 500 entries, 0 to 499\n",
      "Data columns (total 9 columns):\n",
      " #   Column        Non-Null Count  Dtype  \n",
      "---  ------        --------------  -----  \n",
      " 0   Gender        500 non-null    object \n",
      " 1   Height        500 non-null    int64  \n",
      " 2   Weight        500 non-null    int64  \n",
      " 3   Index         500 non-null    int64  \n",
      " 4   BMI_Label     500 non-null    object \n",
      " 5   BMI           500 non-null    float64\n",
      " 6   Mass          500 non-null    float64\n",
      " 7   Acceleration  500 non-null    float64\n",
      " 8   Force         500 non-null    float64\n",
      "dtypes: float64(4), int64(3), object(2)\n",
      "memory usage: 35.3+ KB\n"
     ]
    }
   ],
   "source": [
    "data.info()"
   ]
  },
  {
   "cell_type": "markdown",
   "id": "0a894e55",
   "metadata": {
    "id": "0a894e55"
   },
   "source": [
    "##### Two Columns are having Space in name.\n",
    "##### Hence Rename those two columns."
   ]
  },
  {
   "cell_type": "code",
   "execution_count": 8,
   "id": "ef5c2af8",
   "metadata": {
    "colab": {
     "base_uri": "https://localhost:8080/"
    },
    "id": "ef5c2af8",
    "outputId": "4871af5d-cb90-4468-ccf2-a485e5a22cb1"
   },
   "outputs": [],
   "source": [
    "# # Rename the column\n",
    "# data.rename(columns={'sit and bend forward_cm': 'sit_and_bend_forward_cm'}, inplace=True)\n",
    "# data.rename(columns={'body fat_%': 'body_fat_percentage'}, inplace=True)\n",
    "# data.rename(columns={'sit-ups counts': 'sit-ups_counts'}, inplace=True)\n",
    "# data.rename(columns={'broad jump_cm': 'broad_jump_cm'}, inplace=True)\n",
    "\n",
    "# # Verify the updated column names\n",
    "# print(data.columns)\n"
   ]
  },
  {
   "cell_type": "code",
   "execution_count": 9,
   "id": "5745f76c",
   "metadata": {
    "colab": {
     "base_uri": "https://localhost:8080/",
     "height": 344
    },
    "id": "5745f76c",
    "outputId": "1079def0-0c6b-4079-c12f-4c4a82c0b65a"
   },
   "outputs": [
    {
     "data": {
      "text/html": [
       "<div>\n",
       "<style scoped>\n",
       "    .dataframe tbody tr th:only-of-type {\n",
       "        vertical-align: middle;\n",
       "    }\n",
       "\n",
       "    .dataframe tbody tr th {\n",
       "        vertical-align: top;\n",
       "    }\n",
       "\n",
       "    .dataframe thead th {\n",
       "        text-align: right;\n",
       "    }\n",
       "</style>\n",
       "<table border=\"1\" class=\"dataframe\">\n",
       "  <thead>\n",
       "    <tr style=\"text-align: right;\">\n",
       "      <th></th>\n",
       "      <th>Height</th>\n",
       "      <th>Weight</th>\n",
       "      <th>Index</th>\n",
       "      <th>BMI</th>\n",
       "      <th>Mass</th>\n",
       "      <th>Acceleration</th>\n",
       "      <th>Force</th>\n",
       "    </tr>\n",
       "  </thead>\n",
       "  <tbody>\n",
       "    <tr>\n",
       "      <th>count</th>\n",
       "      <td>500.000000</td>\n",
       "      <td>500.000000</td>\n",
       "      <td>500.000000</td>\n",
       "      <td>500.000000</td>\n",
       "      <td>500.000000</td>\n",
       "      <td>500.000000</td>\n",
       "      <td>500.000000</td>\n",
       "    </tr>\n",
       "    <tr>\n",
       "      <th>mean</th>\n",
       "      <td>169.944000</td>\n",
       "      <td>106.000000</td>\n",
       "      <td>3.748000</td>\n",
       "      <td>37.765284</td>\n",
       "      <td>10.816327</td>\n",
       "      <td>0.150401</td>\n",
       "      <td>1.626765</td>\n",
       "    </tr>\n",
       "    <tr>\n",
       "      <th>std</th>\n",
       "      <td>16.375261</td>\n",
       "      <td>32.382607</td>\n",
       "      <td>1.355053</td>\n",
       "      <td>13.965620</td>\n",
       "      <td>3.304348</td>\n",
       "      <td>0.005804</td>\n",
       "      <td>0.500477</td>\n",
       "    </tr>\n",
       "    <tr>\n",
       "      <th>min</th>\n",
       "      <td>140.000000</td>\n",
       "      <td>50.000000</td>\n",
       "      <td>0.000000</td>\n",
       "      <td>12.753801</td>\n",
       "      <td>5.102041</td>\n",
       "      <td>0.140061</td>\n",
       "      <td>0.730479</td>\n",
       "    </tr>\n",
       "    <tr>\n",
       "      <th>25%</th>\n",
       "      <td>156.000000</td>\n",
       "      <td>80.000000</td>\n",
       "      <td>3.000000</td>\n",
       "      <td>27.169353</td>\n",
       "      <td>8.163265</td>\n",
       "      <td>0.145606</td>\n",
       "      <td>1.211430</td>\n",
       "    </tr>\n",
       "    <tr>\n",
       "      <th>50%</th>\n",
       "      <td>170.500000</td>\n",
       "      <td>106.000000</td>\n",
       "      <td>4.000000</td>\n",
       "      <td>36.956941</td>\n",
       "      <td>10.816327</td>\n",
       "      <td>0.150397</td>\n",
       "      <td>1.631563</td>\n",
       "    </tr>\n",
       "    <tr>\n",
       "      <th>75%</th>\n",
       "      <td>184.000000</td>\n",
       "      <td>136.000000</td>\n",
       "      <td>5.000000</td>\n",
       "      <td>46.390467</td>\n",
       "      <td>13.877551</td>\n",
       "      <td>0.155437</td>\n",
       "      <td>2.077698</td>\n",
       "    </tr>\n",
       "    <tr>\n",
       "      <th>max</th>\n",
       "      <td>199.000000</td>\n",
       "      <td>160.000000</td>\n",
       "      <td>5.000000</td>\n",
       "      <td>78.853402</td>\n",
       "      <td>16.326531</td>\n",
       "      <td>0.159972</td>\n",
       "      <td>2.588367</td>\n",
       "    </tr>\n",
       "  </tbody>\n",
       "</table>\n",
       "</div>"
      ],
      "text/plain": [
       "           Height      Weight       Index         BMI        Mass  \\\n",
       "count  500.000000  500.000000  500.000000  500.000000  500.000000   \n",
       "mean   169.944000  106.000000    3.748000   37.765284   10.816327   \n",
       "std     16.375261   32.382607    1.355053   13.965620    3.304348   \n",
       "min    140.000000   50.000000    0.000000   12.753801    5.102041   \n",
       "25%    156.000000   80.000000    3.000000   27.169353    8.163265   \n",
       "50%    170.500000  106.000000    4.000000   36.956941   10.816327   \n",
       "75%    184.000000  136.000000    5.000000   46.390467   13.877551   \n",
       "max    199.000000  160.000000    5.000000   78.853402   16.326531   \n",
       "\n",
       "       Acceleration       Force  \n",
       "count    500.000000  500.000000  \n",
       "mean       0.150401    1.626765  \n",
       "std        0.005804    0.500477  \n",
       "min        0.140061    0.730479  \n",
       "25%        0.145606    1.211430  \n",
       "50%        0.150397    1.631563  \n",
       "75%        0.155437    2.077698  \n",
       "max        0.159972    2.588367  "
      ]
     },
     "execution_count": 9,
     "metadata": {},
     "output_type": "execute_result"
    }
   ],
   "source": [
    "data.describe()"
   ]
  },
  {
   "cell_type": "code",
   "execution_count": 10,
   "id": "189f9249",
   "metadata": {
    "colab": {
     "base_uri": "https://localhost:8080/",
     "height": 174
    },
    "id": "189f9249",
    "outputId": "0a247209-903d-4b5e-a0fe-6c7fae5214f7"
   },
   "outputs": [
    {
     "data": {
      "text/html": [
       "<div>\n",
       "<style scoped>\n",
       "    .dataframe tbody tr th:only-of-type {\n",
       "        vertical-align: middle;\n",
       "    }\n",
       "\n",
       "    .dataframe tbody tr th {\n",
       "        vertical-align: top;\n",
       "    }\n",
       "\n",
       "    .dataframe thead th {\n",
       "        text-align: right;\n",
       "    }\n",
       "</style>\n",
       "<table border=\"1\" class=\"dataframe\">\n",
       "  <thead>\n",
       "    <tr style=\"text-align: right;\">\n",
       "      <th></th>\n",
       "      <th>Gender</th>\n",
       "      <th>BMI_Label</th>\n",
       "    </tr>\n",
       "  </thead>\n",
       "  <tbody>\n",
       "    <tr>\n",
       "      <th>count</th>\n",
       "      <td>500</td>\n",
       "      <td>500</td>\n",
       "    </tr>\n",
       "    <tr>\n",
       "      <th>unique</th>\n",
       "      <td>2</td>\n",
       "      <td>6</td>\n",
       "    </tr>\n",
       "    <tr>\n",
       "      <th>top</th>\n",
       "      <td>Female</td>\n",
       "      <td>Extreme Obesity</td>\n",
       "    </tr>\n",
       "    <tr>\n",
       "      <th>freq</th>\n",
       "      <td>255</td>\n",
       "      <td>198</td>\n",
       "    </tr>\n",
       "  </tbody>\n",
       "</table>\n",
       "</div>"
      ],
      "text/plain": [
       "        Gender        BMI_Label\n",
       "count      500              500\n",
       "unique       2                6\n",
       "top     Female  Extreme Obesity\n",
       "freq       255              198"
      ]
     },
     "execution_count": 10,
     "metadata": {},
     "output_type": "execute_result"
    }
   ],
   "source": [
    "data.describe(include = 'object')"
   ]
  },
  {
   "cell_type": "markdown",
   "id": "75315635",
   "metadata": {
    "id": "75315635"
   },
   "source": [
    "## Data Visualization and Pre-Processing Steps"
   ]
  },
  {
   "cell_type": "code",
   "execution_count": 11,
   "id": "2e4f46d7",
   "metadata": {
    "colab": {
     "base_uri": "https://localhost:8080/"
    },
    "id": "2e4f46d7",
    "outputId": "f98f39aa-a07b-4922-b93e-0aa6541fd507"
   },
   "outputs": [
    {
     "data": {
      "text/plain": [
       "37.345590    3\n",
       "16.995148    2\n",
       "44.626557    2\n",
       "28.010412    2\n",
       "26.397977    2\n",
       "            ..\n",
       "43.556870    1\n",
       "35.188533    1\n",
       "23.808797    1\n",
       "37.520281    1\n",
       "43.770256    1\n",
       "Name: BMI, Length: 476, dtype: int64"
      ]
     },
     "execution_count": 11,
     "metadata": {},
     "output_type": "execute_result"
    }
   ],
   "source": [
    "data['BMI'].value_counts()"
   ]
  },
  {
   "cell_type": "code",
   "execution_count": 12,
   "id": "ab6c673a",
   "metadata": {
    "colab": {
     "base_uri": "https://localhost:8080/"
    },
    "id": "ab6c673a",
    "outputId": "cbbe9d5c-e981-45df-9147-abdee36fdba0"
   },
   "outputs": [
    {
     "data": {
      "text/plain": [
       "1.459339    1\n",
       "1.498955    1\n",
       "1.315666    1\n",
       "1.866371    1\n",
       "1.082440    1\n",
       "           ..\n",
       "1.232109    1\n",
       "1.494769    1\n",
       "1.660284    1\n",
       "1.641845    1\n",
       "2.114175    1\n",
       "Name: Force, Length: 500, dtype: int64"
      ]
     },
     "execution_count": 12,
     "metadata": {},
     "output_type": "execute_result"
    }
   ],
   "source": [
    "data['Force'].value_counts()"
   ]
  },
  {
   "cell_type": "markdown",
   "id": "fefc9372",
   "metadata": {
    "id": "fefc9372"
   },
   "source": [
    "## Pre-processing: Feature selection/extraction"
   ]
  },
  {
   "cell_type": "code",
   "execution_count": 13,
   "id": "04fccaa0",
   "metadata": {},
   "outputs": [
    {
     "data": {
      "text/html": [
       "<div>\n",
       "<style scoped>\n",
       "    .dataframe tbody tr th:only-of-type {\n",
       "        vertical-align: middle;\n",
       "    }\n",
       "\n",
       "    .dataframe tbody tr th {\n",
       "        vertical-align: top;\n",
       "    }\n",
       "\n",
       "    .dataframe thead th {\n",
       "        text-align: right;\n",
       "    }\n",
       "</style>\n",
       "<table border=\"1\" class=\"dataframe\">\n",
       "  <thead>\n",
       "    <tr style=\"text-align: right;\">\n",
       "      <th></th>\n",
       "      <th>Gender</th>\n",
       "      <th>Height</th>\n",
       "      <th>Weight</th>\n",
       "      <th>Index</th>\n",
       "      <th>BMI_Label</th>\n",
       "      <th>BMI</th>\n",
       "      <th>Mass</th>\n",
       "      <th>Acceleration</th>\n",
       "      <th>Force</th>\n",
       "    </tr>\n",
       "  </thead>\n",
       "  <tbody>\n",
       "    <tr>\n",
       "      <th>0</th>\n",
       "      <td>0</td>\n",
       "      <td>174</td>\n",
       "      <td>96</td>\n",
       "      <td>4</td>\n",
       "      <td>Obesity</td>\n",
       "      <td>31.708284</td>\n",
       "      <td>9.795918</td>\n",
       "      <td>0.148974</td>\n",
       "      <td>1.459339</td>\n",
       "    </tr>\n",
       "    <tr>\n",
       "      <th>1</th>\n",
       "      <td>0</td>\n",
       "      <td>189</td>\n",
       "      <td>87</td>\n",
       "      <td>2</td>\n",
       "      <td>Normal</td>\n",
       "      <td>24.355421</td>\n",
       "      <td>8.877551</td>\n",
       "      <td>0.150125</td>\n",
       "      <td>1.332747</td>\n",
       "    </tr>\n",
       "    <tr>\n",
       "      <th>2</th>\n",
       "      <td>1</td>\n",
       "      <td>185</td>\n",
       "      <td>110</td>\n",
       "      <td>4</td>\n",
       "      <td>Obesity</td>\n",
       "      <td>32.140248</td>\n",
       "      <td>11.224490</td>\n",
       "      <td>0.141965</td>\n",
       "      <td>1.593481</td>\n",
       "    </tr>\n",
       "    <tr>\n",
       "      <th>3</th>\n",
       "      <td>1</td>\n",
       "      <td>195</td>\n",
       "      <td>104</td>\n",
       "      <td>3</td>\n",
       "      <td>Overweight</td>\n",
       "      <td>27.350427</td>\n",
       "      <td>10.612245</td>\n",
       "      <td>0.152628</td>\n",
       "      <td>1.619725</td>\n",
       "    </tr>\n",
       "    <tr>\n",
       "      <th>4</th>\n",
       "      <td>0</td>\n",
       "      <td>149</td>\n",
       "      <td>61</td>\n",
       "      <td>3</td>\n",
       "      <td>Overweight</td>\n",
       "      <td>27.476240</td>\n",
       "      <td>6.224490</td>\n",
       "      <td>0.143498</td>\n",
       "      <td>0.893200</td>\n",
       "    </tr>\n",
       "  </tbody>\n",
       "</table>\n",
       "</div>"
      ],
      "text/plain": [
       "   Gender  Height  Weight  Index   BMI_Label        BMI       Mass  \\\n",
       "0       0     174      96      4     Obesity  31.708284   9.795918   \n",
       "1       0     189      87      2      Normal  24.355421   8.877551   \n",
       "2       1     185     110      4     Obesity  32.140248  11.224490   \n",
       "3       1     195     104      3  Overweight  27.350427  10.612245   \n",
       "4       0     149      61      3  Overweight  27.476240   6.224490   \n",
       "\n",
       "   Acceleration     Force  \n",
       "0      0.148974  1.459339  \n",
       "1      0.150125  1.332747  \n",
       "2      0.141965  1.593481  \n",
       "3      0.152628  1.619725  \n",
       "4      0.143498  0.893200  "
      ]
     },
     "execution_count": 13,
     "metadata": {},
     "output_type": "execute_result"
    }
   ],
   "source": [
    "data['Gender'].replace(to_replace=['Male','Female'], value=[0,1], inplace=True)\n",
    "data.head()"
   ]
  },
  {
   "cell_type": "markdown",
   "id": "3ce6982d",
   "metadata": {
    "id": "3ce6982d"
   },
   "source": [
    "## Selecting Features"
   ]
  },
  {
   "cell_type": "code",
   "execution_count": 14,
   "id": "225f9c39",
   "metadata": {
    "id": "225f9c39"
   },
   "outputs": [],
   "source": [
    "Feature = data[['BMI', 'Mass','Acceleration']]"
   ]
  },
  {
   "cell_type": "code",
   "execution_count": 15,
   "id": "620e8130",
   "metadata": {
    "colab": {
     "base_uri": "https://localhost:8080/",
     "height": 206
    },
    "id": "620e8130",
    "outputId": "ec43327f-5857-4896-e0e8-e418fc40635b"
   },
   "outputs": [
    {
     "data": {
      "text/html": [
       "<div>\n",
       "<style scoped>\n",
       "    .dataframe tbody tr th:only-of-type {\n",
       "        vertical-align: middle;\n",
       "    }\n",
       "\n",
       "    .dataframe tbody tr th {\n",
       "        vertical-align: top;\n",
       "    }\n",
       "\n",
       "    .dataframe thead th {\n",
       "        text-align: right;\n",
       "    }\n",
       "</style>\n",
       "<table border=\"1\" class=\"dataframe\">\n",
       "  <thead>\n",
       "    <tr style=\"text-align: right;\">\n",
       "      <th></th>\n",
       "      <th>BMI</th>\n",
       "      <th>Mass</th>\n",
       "      <th>Acceleration</th>\n",
       "    </tr>\n",
       "  </thead>\n",
       "  <tbody>\n",
       "    <tr>\n",
       "      <th>0</th>\n",
       "      <td>31.708284</td>\n",
       "      <td>9.795918</td>\n",
       "      <td>0.148974</td>\n",
       "    </tr>\n",
       "    <tr>\n",
       "      <th>1</th>\n",
       "      <td>24.355421</td>\n",
       "      <td>8.877551</td>\n",
       "      <td>0.150125</td>\n",
       "    </tr>\n",
       "    <tr>\n",
       "      <th>2</th>\n",
       "      <td>32.140248</td>\n",
       "      <td>11.224490</td>\n",
       "      <td>0.141965</td>\n",
       "    </tr>\n",
       "    <tr>\n",
       "      <th>3</th>\n",
       "      <td>27.350427</td>\n",
       "      <td>10.612245</td>\n",
       "      <td>0.152628</td>\n",
       "    </tr>\n",
       "    <tr>\n",
       "      <th>4</th>\n",
       "      <td>27.476240</td>\n",
       "      <td>6.224490</td>\n",
       "      <td>0.143498</td>\n",
       "    </tr>\n",
       "  </tbody>\n",
       "</table>\n",
       "</div>"
      ],
      "text/plain": [
       "         BMI       Mass  Acceleration\n",
       "0  31.708284   9.795918      0.148974\n",
       "1  24.355421   8.877551      0.150125\n",
       "2  32.140248  11.224490      0.141965\n",
       "3  27.350427  10.612245      0.152628\n",
       "4  27.476240   6.224490      0.143498"
      ]
     },
     "execution_count": 15,
     "metadata": {},
     "output_type": "execute_result"
    }
   ],
   "source": [
    "Feature.head()"
   ]
  },
  {
   "cell_type": "code",
   "execution_count": 16,
   "id": "1a6f00f3",
   "metadata": {
    "colab": {
     "base_uri": "https://localhost:8080/"
    },
    "id": "1a6f00f3",
    "outputId": "e833eb17-8775-4db7-a0ea-6d6d862a1425"
   },
   "outputs": [
    {
     "name": "stdout",
     "output_type": "stream",
     "text": [
      "<class 'pandas.core.frame.DataFrame'>\n",
      "RangeIndex: 500 entries, 0 to 499\n",
      "Data columns (total 3 columns):\n",
      " #   Column        Non-Null Count  Dtype  \n",
      "---  ------        --------------  -----  \n",
      " 0   BMI           500 non-null    float64\n",
      " 1   Mass          500 non-null    float64\n",
      " 2   Acceleration  500 non-null    float64\n",
      "dtypes: float64(3)\n",
      "memory usage: 11.8 KB\n"
     ]
    }
   ],
   "source": [
    "Feature.info()"
   ]
  },
  {
   "cell_type": "markdown",
   "id": "b4e3cb2d",
   "metadata": {
    "id": "b4e3cb2d"
   },
   "source": [
    "## Lets Define Feature sets, X:"
   ]
  },
  {
   "cell_type": "code",
   "execution_count": 17,
   "id": "5a6faf74",
   "metadata": {
    "colab": {
     "base_uri": "https://localhost:8080/",
     "height": 206
    },
    "id": "5a6faf74",
    "outputId": "987ac262-eb17-43d9-d933-29ee4cba8e02"
   },
   "outputs": [
    {
     "data": {
      "text/html": [
       "<div>\n",
       "<style scoped>\n",
       "    .dataframe tbody tr th:only-of-type {\n",
       "        vertical-align: middle;\n",
       "    }\n",
       "\n",
       "    .dataframe tbody tr th {\n",
       "        vertical-align: top;\n",
       "    }\n",
       "\n",
       "    .dataframe thead th {\n",
       "        text-align: right;\n",
       "    }\n",
       "</style>\n",
       "<table border=\"1\" class=\"dataframe\">\n",
       "  <thead>\n",
       "    <tr style=\"text-align: right;\">\n",
       "      <th></th>\n",
       "      <th>BMI</th>\n",
       "      <th>Mass</th>\n",
       "      <th>Acceleration</th>\n",
       "    </tr>\n",
       "  </thead>\n",
       "  <tbody>\n",
       "    <tr>\n",
       "      <th>0</th>\n",
       "      <td>31.708284</td>\n",
       "      <td>9.795918</td>\n",
       "      <td>0.148974</td>\n",
       "    </tr>\n",
       "    <tr>\n",
       "      <th>1</th>\n",
       "      <td>24.355421</td>\n",
       "      <td>8.877551</td>\n",
       "      <td>0.150125</td>\n",
       "    </tr>\n",
       "    <tr>\n",
       "      <th>2</th>\n",
       "      <td>32.140248</td>\n",
       "      <td>11.224490</td>\n",
       "      <td>0.141965</td>\n",
       "    </tr>\n",
       "    <tr>\n",
       "      <th>3</th>\n",
       "      <td>27.350427</td>\n",
       "      <td>10.612245</td>\n",
       "      <td>0.152628</td>\n",
       "    </tr>\n",
       "    <tr>\n",
       "      <th>4</th>\n",
       "      <td>27.476240</td>\n",
       "      <td>6.224490</td>\n",
       "      <td>0.143498</td>\n",
       "    </tr>\n",
       "  </tbody>\n",
       "</table>\n",
       "</div>"
      ],
      "text/plain": [
       "         BMI       Mass  Acceleration\n",
       "0  31.708284   9.795918      0.148974\n",
       "1  24.355421   8.877551      0.150125\n",
       "2  32.140248  11.224490      0.141965\n",
       "3  27.350427  10.612245      0.152628\n",
       "4  27.476240   6.224490      0.143498"
      ]
     },
     "execution_count": 17,
     "metadata": {},
     "output_type": "execute_result"
    }
   ],
   "source": [
    "X = Feature\n",
    "X[0:5]"
   ]
  },
  {
   "cell_type": "markdown",
   "id": "40a1f18d",
   "metadata": {
    "id": "40a1f18d"
   },
   "source": [
    "## What are our lables? Create Output Variable"
   ]
  },
  {
   "cell_type": "code",
   "execution_count": 18,
   "id": "18ac6004",
   "metadata": {
    "colab": {
     "base_uri": "https://localhost:8080/"
    },
    "id": "18ac6004",
    "outputId": "10aa5056-f481-4cdc-d50a-0be33c7e4d69"
   },
   "outputs": [
    {
     "data": {
      "text/plain": [
       "0    1.459339\n",
       "1    1.332747\n",
       "2    1.593481\n",
       "3    1.619725\n",
       "4    0.893200\n",
       "Name: Force, dtype: float64"
      ]
     },
     "execution_count": 18,
     "metadata": {},
     "output_type": "execute_result"
    }
   ],
   "source": [
    "y = data['Force']\n",
    "y[0:5]"
   ]
  },
  {
   "cell_type": "code",
   "execution_count": 19,
   "id": "ffd9deaf",
   "metadata": {},
   "outputs": [
    {
     "data": {
      "text/plain": [
       "array([[-0.43414228, -0.30911702, -0.2460403 ],\n",
       "       [-0.96116697, -0.58732233, -0.0474622 ],\n",
       "       [-0.40318074,  0.12364681, -1.45503776],\n",
       "       [-0.74649654, -0.0618234 ,  0.38416392],\n",
       "       [-0.73747879, -1.39102658, -1.19063227]])"
      ]
     },
     "execution_count": 19,
     "metadata": {},
     "output_type": "execute_result"
    }
   ],
   "source": [
    "from sklearn import preprocessing\n",
    "\n",
    "X = preprocessing.StandardScaler().fit(X).transform(X)\n",
    "X[0:5]"
   ]
  },
  {
   "cell_type": "code",
   "execution_count": 20,
   "id": "b9deee3c",
   "metadata": {},
   "outputs": [
    {
     "name": "stdout",
     "output_type": "stream",
     "text": [
      "Train set: (400, 3) (400,)\n",
      "Test set: (100, 3) (100,)\n"
     ]
    }
   ],
   "source": [
    "from sklearn.model_selection import train_test_split\n",
    "X_train, X_test, y_train, y_test = train_test_split( X, \n",
    "                                                    y, \n",
    "                                                    test_size = 0.2,\n",
    "                                                    random_state = 3)\n",
    "print ('Train set:', X_train.shape, y_train.shape)\n",
    "print ('Test set:', X_test.shape, y_test.shape)"
   ]
  },
  {
   "cell_type": "code",
   "execution_count": 21,
   "id": "a089a191",
   "metadata": {},
   "outputs": [
    {
     "name": "stdout",
     "output_type": "stream",
     "text": [
      "Algorithm 1 - MSE: 0.0003742090885504621\n",
      "Algorithm 2 - MSE: 0.0014176826622098531\n",
      "Algorithm 3 - MSE: 0.000550694764988957\n",
      "Algorithm 4 - MSE: 0.005165058895230073\n",
      "Algorithm 5 - MSE: 0.004003063300765742\n",
      "The best algorithm is Algorithm 1: LinearRegression\n",
      "\n",
      "\n",
      "\n",
      "\n",
      "r2_Scores are\n",
      "Algorithm 1 - MSE: 0.9985710911538317\n",
      "Algorithm 2 - MSE: 0.9945866111778899\n",
      "Algorithm 3 - MSE: 0.9978971846347201\n",
      "Algorithm 4 - MSE: 0.9802773407375988\n",
      "Algorithm 5 - MSE: 0.9847143943392906\n"
     ]
    },
    {
     "data": {
      "text/plain": [
       "LinearRegression()"
      ]
     },
     "execution_count": 21,
     "metadata": {},
     "output_type": "execute_result"
    }
   ],
   "source": [
    "import pandas as pd\n",
    "from sklearn.model_selection import train_test_split\n",
    "from sklearn.linear_model import LinearRegression\n",
    "from sklearn.tree import DecisionTreeRegressor\n",
    "from sklearn.ensemble import RandomForestRegressor\n",
    "from sklearn.svm import SVR\n",
    "from sklearn.neighbors import KNeighborsRegressor\n",
    "from sklearn.metrics import mean_squared_error\n",
    "from sklearn.metrics import r2_score\n",
    "import joblib\n",
    "\n",
    "# Create a list of regression algorithms to compare\n",
    "regressors = [\n",
    "    LinearRegression(),\n",
    "    DecisionTreeRegressor(),\n",
    "    RandomForestRegressor(),\n",
    "    SVR(),\n",
    "    KNeighborsRegressor()\n",
    "]\n",
    "\n",
    "# Perform regression with each algorithm and calculate MSE\n",
    "mse_scores = []\n",
    "r2_scores = []\n",
    "for regressor in regressors:\n",
    "    regressor.fit(X_train, y_train)\n",
    "    y_pred = regressor.predict(X_test)\n",
    "    mse = mean_squared_error(y_test, y_pred)\n",
    "    # Calculate the R-squared score\n",
    "    r2 = r2_score(y_test, y_pred)\n",
    "    mse_scores.append(mse)\n",
    "    r2_scores.append(r2)\n",
    "\n",
    "# Find the best algorithm based on MSE\n",
    "best_algorithm_index = mse_scores.index(min(mse_scores))\n",
    "best_algorithm = regressors[best_algorithm_index]\n",
    "\n",
    "# Print the MSE scores and the best algorithm\n",
    "for i, mse in enumerate(mse_scores):\n",
    "    print(f\"Algorithm {i+1} - MSE: {mse}\")\n",
    "print(f\"The best algorithm is Algorithm {best_algorithm_index+1}: {type(best_algorithm).__name__}\")\n",
    "\n",
    "\n",
    "# r2_scores\n",
    "\n",
    "print(\"\\n\\n\\n\\nr2_Scores are\")\n",
    "for i, r in enumerate(r2_scores):\n",
    "    print(f\"Algorithm {i+1} - MSE: {r}\")\n",
    "\n",
    "\n",
    "# Fit the best algorithm on the entire dataset\n",
    "best_algorithm.fit(X, y)\n"
   ]
  },
  {
   "cell_type": "code",
   "execution_count": 22,
   "id": "162e2f6f",
   "metadata": {},
   "outputs": [
    {
     "name": "stdout",
     "output_type": "stream",
     "text": [
      "R-squared: 0.9985710911538317\n"
     ]
    },
    {
     "data": {
      "text/plain": [
       "['C:\\\\Users\\\\hplap\\\\IOT_Project\\\\Cycling\\\\Cyclist\\\\linear.sav']"
      ]
     },
     "execution_count": 22,
     "metadata": {},
     "output_type": "execute_result"
    }
   ],
   "source": [
    "# Create and fit the Linear regressor\n",
    "regressor1 = LinearRegression()\n",
    "regressor1.fit(X_train, y_train)\n",
    "\n",
    "# Make predictions on the test set\n",
    "y_pred1 = regressor1.predict(X_test)\n",
    "\n",
    "# Calculate the R-squared score\n",
    "r1 = r2_score(y_test, y_pred1)\n",
    "print(f\"R-squared: {r1}\")\n",
    "\n",
    "\n",
    "filename = 'C:\\\\Users\\\\hplap\\\\IOT_Project\\\\Cycling\\\\Cyclist\\\\linear.sav'\n",
    "joblib.dump(regressor1,filename)"
   ]
  },
  {
   "cell_type": "code",
   "execution_count": 23,
   "id": "35212dbe",
   "metadata": {},
   "outputs": [
    {
     "name": "stdout",
     "output_type": "stream",
     "text": [
      "R-squared: 0.9979319845372004\n"
     ]
    },
    {
     "data": {
      "text/plain": [
       "['C:\\\\Users\\\\hplap\\\\IOT_Project\\\\Cycling\\\\Cyclist\\\\random.sav']"
      ]
     },
     "execution_count": 23,
     "metadata": {},
     "output_type": "execute_result"
    }
   ],
   "source": [
    "# Create and fit the Random Forest regressor\n",
    "regressor2 = RandomForestRegressor()\n",
    "regressor2.fit(X_train, y_train)\n",
    "\n",
    "# Make predictions on the test set\n",
    "y_pred2 = regressor2.predict(X_test)\n",
    "\n",
    "# Calculate the R-squared score\n",
    "r2 = r2_score(y_test, y_pred2)\n",
    "print(f\"R-squared: {r2}\")\n",
    "\n",
    "\n",
    "filename = 'C:\\\\Users\\\\hplap\\\\IOT_Project\\\\Cycling\\\\Cyclist\\\\random.sav'\n",
    "joblib.dump(regressor2,filename)"
   ]
  },
  {
   "cell_type": "code",
   "execution_count": 24,
   "id": "448b8ffe",
   "metadata": {},
   "outputs": [
    {
     "name": "stdout",
     "output_type": "stream",
     "text": [
      "R-squared: 0.9945986111171787\n"
     ]
    },
    {
     "data": {
      "text/plain": [
       "['C:\\\\Users\\\\hplap\\\\IOT_Project\\\\Cycling\\\\Cyclist\\\\decision.sav']"
      ]
     },
     "execution_count": 24,
     "metadata": {},
     "output_type": "execute_result"
    }
   ],
   "source": [
    "# Create and fit the Decision Tree regressor\n",
    "regressor3 = DecisionTreeRegressor()\n",
    "regressor3.fit(X_train, y_train)\n",
    "\n",
    "# Make predictions on the test set\n",
    "y_pred3 = regressor3.predict(X_test)\n",
    "\n",
    "# Calculate the R-squared score\n",
    "r3 = r2_score(y_test, y_pred3)\n",
    "print(f\"R-squared: {r3}\")\n",
    "\n",
    "\n",
    "filename = 'C:\\\\Users\\\\hplap\\\\IOT_Project\\\\Cycling\\\\Cyclist\\\\decision.sav'\n",
    "joblib.dump(regressor3,filename)"
   ]
  },
  {
   "cell_type": "code",
   "execution_count": 25,
   "id": "40863ad2",
   "metadata": {},
   "outputs": [
    {
     "name": "stdout",
     "output_type": "stream",
     "text": [
      "R-squared: 0.9802773407375988\n"
     ]
    },
    {
     "data": {
      "text/plain": [
       "['C:\\\\Users\\\\hplap\\\\IOT_Project\\\\Cycling\\\\Cyclist\\\\svr.sav']"
      ]
     },
     "execution_count": 25,
     "metadata": {},
     "output_type": "execute_result"
    }
   ],
   "source": [
    "# Create and fit the Support Vector regressor\n",
    "regressor4 = SVR()\n",
    "regressor4.fit(X_train, y_train)\n",
    "\n",
    "# Make predictions on the test set\n",
    "y_pred4 = regressor4.predict(X_test)\n",
    "\n",
    "# Calculate the R-squared score\n",
    "r2 = r2_score(y_test, y_pred4)\n",
    "print(f\"R-squared: {r2}\")\n",
    "\n",
    "\n",
    "filename = 'C:\\\\Users\\\\hplap\\\\IOT_Project\\\\Cycling\\\\Cyclist\\\\svr.sav'\n",
    "joblib.dump(regressor4,filename)"
   ]
  },
  {
   "cell_type": "code",
   "execution_count": 26,
   "id": "3ba1435b",
   "metadata": {},
   "outputs": [
    {
     "name": "stdout",
     "output_type": "stream",
     "text": [
      "R-squared: 0.9847143943392906\n"
     ]
    },
    {
     "data": {
      "text/plain": [
       "['C:\\\\Users\\\\hplap\\\\IOT_Project\\\\Cycling\\\\Cyclist\\\\kneighbors.sav']"
      ]
     },
     "execution_count": 26,
     "metadata": {},
     "output_type": "execute_result"
    }
   ],
   "source": [
    "# Create and fit the KNeighbors regressor\n",
    "regressor5 = KNeighborsRegressor()\n",
    "regressor5.fit(X_train, y_train)\n",
    "\n",
    "# Make predictions on the test set\n",
    "y_pred5 = regressor5.predict(X_test)\n",
    "\n",
    "# Calculate the R-squared score\n",
    "r2 = r2_score(y_test, y_pred5)\n",
    "print(f\"R-squared: {r2}\")\n",
    "\n",
    "\n",
    "filename = 'C:\\\\Users\\\\hplap\\\\IOT_Project\\\\Cycling\\\\Cyclist\\\\kneighbors.sav'\n",
    "joblib.dump(regressor5,filename)"
   ]
  }
 ],
 "metadata": {
  "colab": {
   "provenance": []
  },
  "kernelspec": {
   "display_name": "Python 3 (ipykernel)",
   "language": "python",
   "name": "python3"
  },
  "language_info": {
   "codemirror_mode": {
    "name": "ipython",
    "version": 3
   },
   "file_extension": ".py",
   "mimetype": "text/x-python",
   "name": "python",
   "nbconvert_exporter": "python",
   "pygments_lexer": "ipython3",
   "version": "3.9.13"
  }
 },
 "nbformat": 4,
 "nbformat_minor": 5
}
